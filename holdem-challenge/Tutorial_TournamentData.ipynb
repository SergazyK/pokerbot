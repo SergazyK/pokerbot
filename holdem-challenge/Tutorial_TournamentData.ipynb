{
 "cells": [
  {
   "cell_type": "markdown",
   "metadata": {},
   "source": [
    "# Подключение к базе данных\n",
    "\n",
    "- [Краткое руководство по использованию MongoDB в примерах](https://github.com/romovpa/gotohack-toolkit/blob/master/workshop/03_MongoDB.ipynb)"
   ]
  },
  {
   "cell_type": "code",
   "execution_count": 1,
   "metadata": {
    "collapsed": false
   },
   "outputs": [],
   "source": [
    "import pymongo\n",
    "import json\n",
    "\n",
    "db = pymongo.MongoClient('mongodb://data.sberbank.ai/holdem_games').get_database('holdem_games')"
   ]
  },
  {
   "cell_type": "markdown",
   "metadata": {},
   "source": [
    "##### Число игр в базе данных"
   ]
  },
  {
   "cell_type": "code",
   "execution_count": 2,
   "metadata": {
    "collapsed": false
   },
   "outputs": [
    {
     "data": {
      "text/plain": [
       "1295"
      ]
     },
     "execution_count": 2,
     "metadata": {},
     "output_type": "execute_result"
    }
   ],
   "source": [
    "db.games.count()"
   ]
  },
  {
   "cell_type": "markdown",
   "metadata": {},
   "source": [
    "##### Число игр с непрерывного турнира"
   ]
  },
  {
   "cell_type": "code",
   "execution_count": 3,
   "metadata": {
    "collapsed": false
   },
   "outputs": [
    {
     "data": {
      "text/plain": [
       "0"
      ]
     },
     "execution_count": 3,
     "metadata": {},
     "output_type": "execute_result"
    }
   ],
   "source": [
    "db.games.find({'label': 'default'}).count()"
   ]
  },
  {
   "cell_type": "markdown",
   "metadata": {},
   "source": [
    "##### Первая попавшаяся игра от определенного игрока"
   ]
  },
  {
   "cell_type": "code",
   "execution_count": 4,
   "metadata": {
    "collapsed": true
   },
   "outputs": [],
   "source": [
    "game = db.games.find_one({\n",
    "    'label': 'online', \n",
    "    'seats.name': 'aWrsILaeY0LdPPwlX2pZlx',\n",
    "})"
   ]
  },
  {
   "cell_type": "markdown",
   "metadata": {},
   "source": [
    "# Структура реплея игры\n",
    "\n",
    "```python\n",
    "{\n",
    "  # название турнира, возможные значения\n",
    "  #   - online:  сабмиты из он-лайн этапа\n",
    "  #   - default: непрерывный турнир во время хакатона\n",
    "  #   - final:   игры первого этапа финала\n",
    "  \"label\": \"online\",  \n",
    "\n",
    "  # время начала игры (unix timestamp)\n",
    "  \"timestamp\": 1506150447.5848944,\n",
    "  \n",
    "  # время игры в секундах\n",
    "  \"duration\": 111.707551,\n",
    "\n",
    "  # параметры правил игры\n",
    "  \"rule\": {\n",
    "    \"max_round\": 50,\n",
    "    \"ante\": 0,\n",
    "    \"blind_structure\": {},\n",
    "    \"initial_stack\": 1500,\n",
    "    \"small_blind_amount\": 15\n",
    "  },\n",
    "  \n",
    "  # информация о серии игр\n",
    "  \"series\": {\n",
    "    \"id\": \"8eacd808a02d11e79d500242ac12000a\" # уникальный идентификатор серии игр\n",
    "    \"start_time\": 1506150318.5754483,        # время начала серии игр\n",
    "    \"game\": 0,                               # номер игры в серии\n",
    "    \n",
    "  }\n",
    "  \n",
    "  # список участников игры в порядке их расположения за столом\n",
    "  \"seats\": [\n",
    "    {\n",
    "      # уникальный идентификатор команды, чей бот играет\n",
    "      \"name\": \"The Team\",\n",
    "    \n",
    "      \"uuid\": \"jcaitizqrnclxcjlykmtee\", # идентификатор бота внутри конкретной игры\n",
    "    \n",
    "      # число фишек \n",
    "      \"stack\": 1185,        # к концу игры\n",
    "      \"start_stack\": 1500,  # в начале игры\n",
    "      \n",
    "      \"bot\": {\n",
    "        \"failed\": false,          # true, если бот был упавшим во время игры\n",
    "        \"failed_at_start\": false, # true, если бот был упавшим в начале игры \n",
    "                                  # (такое может произойти, если бот упал во время одной из игр )\n",
    "        \n",
    "        # кусок вывода stdout (может быть использован для определения ошибки)\n",
    "        \"log\": \"2017-09-23 07:05:46.655460: W tensorflow/core/platform/cpu_feature_guard.cc:45] The TensorFlow library wasn't compiled to use SSE4.1 instructions, but these are available on your machine and could speed up CPU computations.\\n2017-09-23 07:05:46.655498: W tensorflow/core/platform/cpu_feature_guard.cc:45] The TensorFlow library wasn't compiled to use SSE4.2 instructions, but these are available on your machine and could speed up CPU computations.\"\n",
    "      },\n",
    "      \n",
    "      # максимальный нормер раунда, в котором участник все еще был за столом\n",
    "      \"max_participating_round\": 50,\n",
    "    },\n",
    "    {\n",
    "      \"name\": \"Another Team\",\n",
    "      \n",
    "       \"uuid\": \"snygzfpttfhvanlrqouuqw\",\n",
    "      \n",
    "      \"stack\": 960,\n",
    "      \"start_stack\": 1500,\n",
    "      \n",
    "      \"bot\": {\n",
    "        \"failed\": true,\n",
    "        \"failed_at_start\": false,\n",
    "        \"fail_reason\": \"invalid_action (invalid amount for action raise, allowed 30..1005, requested 16)\"\n",
    "        \"log\": \"\",\n",
    "      },\n",
    "      \"max_participating_round\": 50,      \n",
    "    },\n",
    "    ...\n",
    "  ],\n",
    "  \n",
    "  # описание раундов\n",
    "  \"rounds\": [\n",
    "    \"round_count\": 0, # порядковый номер раунда\n",
    "  \n",
    "    # описание действий в раунде\n",
    "    \"round_state\": {\n",
    "      \"small_blind_pos\": 1,     # индекс игрока, у которого малый блайнд\n",
    "      \"big_blind_pos\": 2,       # индекс игрока, у которого большой блайнд\n",
    "      \"small_blind_amount\": 15, # размер малого блайнда\n",
    "      \n",
    "      \"seats\": [], # состояние участников на начало раунда\n",
    "  \n",
    "      # общие карты в раунде\n",
    "      \"community_card\": [\"ST\", \"D8\", \"DA\", \"SJ\", \"D3\"],\n",
    "      \n",
    "      # последовательность действий на каждой улице\n",
    "      \"action_histories\": {\n",
    "        \"preflop\": [ ... ],\n",
    "        \"flop\": [ ... ],\n",
    "        \"turn\": [\n",
    "          # описание хода\n",
    "          {\n",
    "            \"uuid\": \"wgoxzmaarejoofxefygmth\", # uuid игрока (по нему можно узнать имя команды в seats)\n",
    "            \"action\": \"CALL\",         # действие: CALL, RAISE или FOLD\n",
    "            \"paid\": 0,                # сколько фишел уже было поставлено до хода\n",
    "            \"amount\": 0               # сколько фишек поставлено на текущем ходе\n",
    "            \"bot\": {\n",
    "              \"failed\": false,        # true, если действие сделал не бот, а симулятор (авто сброс)\n",
    "              \"valid_actions\": {...}, # список доступных действий (как он подается в stdin)\n",
    "              \"time_bank\": 300,       # секунд осталось в тайм-банке\n",
    "              \"line\": \"call\\t0\",      # строка, которую бот отправил в симулятор\n",
    "              \"time_elapsed\": 0.0006890296936035156 # секунд потрачено на ход\n",
    "            },\n",
    "          },\n",
    "        ],\n",
    "      },      \n",
    "    },\n",
    "    \n",
    "    # список победителей раунда\n",
    "    \"winners\": [\n",
    "      {\n",
    "        \"name\": \"uq8h3B2GrcoY2Ra~87aW63\",\n",
    "        \"uuid\": \"xtatrrkuwyigoondrtaeia\",\n",
    "        \"stack\": 2550,\n",
    "        \"state\": \"participating\"\n",
    "      }\n",
    "    ],\n",
    "  ],\n",
    "}\n",
    "```"
   ]
  },
  {
   "cell_type": "markdown",
   "metadata": {},
   "source": [
    "# Построение таблицы результатов"
   ]
  },
  {
   "cell_type": "code",
   "execution_count": 5,
   "metadata": {
    "collapsed": true
   },
   "outputs": [],
   "source": [
    "import pandas"
   ]
  },
  {
   "cell_type": "code",
   "execution_count": 6,
   "metadata": {
    "collapsed": true
   },
   "outputs": [],
   "source": [
    "results = db.games.find(\n",
    "    {'label': 'online'},\n",
    "    projection=['seats', 'timestamp', 'duration', 'series'],\n",
    ")\n",
    "\n",
    "df_participant_results = pandas.DataFrame.from_records([\n",
    "    {\n",
    "        'timestamp': result['timestamp'],\n",
    "        'duration': result['duration'],\n",
    "        'series_id': result['series']['id'],\n",
    "        'series_time': result['series']['start_time'],\n",
    "        'series_game': result['series']['game'],\n",
    "        \n",
    "        'name': seat['name'],\n",
    "        'stack': seat['stack'],\n",
    "        'failed': seat['bot']['failed'],\n",
    "    }\n",
    "    for result in results\n",
    "    for seat in result['seats']\n",
    "])"
   ]
  },
  {
   "cell_type": "code",
   "execution_count": 7,
   "metadata": {
    "collapsed": false
   },
   "outputs": [
    {
     "data": {
      "text/html": [
       "<div>\n",
       "<table border=\"1\" class=\"dataframe\">\n",
       "  <thead>\n",
       "    <tr style=\"text-align: right;\">\n",
       "      <th></th>\n",
       "      <th>duration</th>\n",
       "      <th>failed</th>\n",
       "      <th>name</th>\n",
       "      <th>series_game</th>\n",
       "      <th>series_id</th>\n",
       "      <th>series_time</th>\n",
       "      <th>stack</th>\n",
       "      <th>timestamp</th>\n",
       "    </tr>\n",
       "  </thead>\n",
       "  <tbody>\n",
       "    <tr>\n",
       "      <th>0</th>\n",
       "      <td>111.707551</td>\n",
       "      <td>False</td>\n",
       "      <td>So1yg6nEYSCUJ2HtQEACZb</td>\n",
       "      <td>0</td>\n",
       "      <td>8eacd808a02d11e79d500242ac12000a</td>\n",
       "      <td>1.506150e+09</td>\n",
       "      <td>1185</td>\n",
       "      <td>1.506150e+09</td>\n",
       "    </tr>\n",
       "    <tr>\n",
       "      <th>1</th>\n",
       "      <td>111.707551</td>\n",
       "      <td>False</td>\n",
       "      <td>aWrsILaeY0LdPPwlX2pZlx</td>\n",
       "      <td>0</td>\n",
       "      <td>8eacd808a02d11e79d500242ac12000a</td>\n",
       "      <td>1.506150e+09</td>\n",
       "      <td>0</td>\n",
       "      <td>1.506150e+09</td>\n",
       "    </tr>\n",
       "    <tr>\n",
       "      <th>2</th>\n",
       "      <td>111.707551</td>\n",
       "      <td>True</td>\n",
       "      <td>wyBKNCWdd1HkVxhmnNoeqQ</td>\n",
       "      <td>0</td>\n",
       "      <td>8eacd808a02d11e79d500242ac12000a</td>\n",
       "      <td>1.506150e+09</td>\n",
       "      <td>960</td>\n",
       "      <td>1.506150e+09</td>\n",
       "    </tr>\n",
       "    <tr>\n",
       "      <th>3</th>\n",
       "      <td>111.707551</td>\n",
       "      <td>False</td>\n",
       "      <td>eftkdK5uRZgtu78T0o8fW9</td>\n",
       "      <td>0</td>\n",
       "      <td>8eacd808a02d11e79d500242ac12000a</td>\n",
       "      <td>1.506150e+09</td>\n",
       "      <td>0</td>\n",
       "      <td>1.506150e+09</td>\n",
       "    </tr>\n",
       "    <tr>\n",
       "      <th>4</th>\n",
       "      <td>111.707551</td>\n",
       "      <td>False</td>\n",
       "      <td>o_mo4SbWWSXfMcmuQzpywV</td>\n",
       "      <td>0</td>\n",
       "      <td>8eacd808a02d11e79d500242ac12000a</td>\n",
       "      <td>1.506150e+09</td>\n",
       "      <td>2130</td>\n",
       "      <td>1.506150e+09</td>\n",
       "    </tr>\n",
       "  </tbody>\n",
       "</table>\n",
       "</div>"
      ],
      "text/plain": [
       "     duration failed                    name  series_game  \\\n",
       "0  111.707551  False  So1yg6nEYSCUJ2HtQEACZb            0   \n",
       "1  111.707551  False  aWrsILaeY0LdPPwlX2pZlx            0   \n",
       "2  111.707551   True  wyBKNCWdd1HkVxhmnNoeqQ            0   \n",
       "3  111.707551  False  eftkdK5uRZgtu78T0o8fW9            0   \n",
       "4  111.707551  False  o_mo4SbWWSXfMcmuQzpywV            0   \n",
       "\n",
       "                          series_id   series_time  stack     timestamp  \n",
       "0  8eacd808a02d11e79d500242ac12000a  1.506150e+09   1185  1.506150e+09  \n",
       "1  8eacd808a02d11e79d500242ac12000a  1.506150e+09      0  1.506150e+09  \n",
       "2  8eacd808a02d11e79d500242ac12000a  1.506150e+09    960  1.506150e+09  \n",
       "3  8eacd808a02d11e79d500242ac12000a  1.506150e+09      0  1.506150e+09  \n",
       "4  8eacd808a02d11e79d500242ac12000a  1.506150e+09   2130  1.506150e+09  "
      ]
     },
     "execution_count": 7,
     "metadata": {},
     "output_type": "execute_result"
    }
   ],
   "source": [
    "df_participant_results.head()"
   ]
  },
  {
   "cell_type": "code",
   "execution_count": 8,
   "metadata": {
    "collapsed": false,
    "scrolled": false
   },
   "outputs": [],
   "source": [
    "g = df_participant_results.groupby('name')\n",
    "df_leaderboard = pandas.DataFrame({\n",
    "    'games': g['series_game'].count(),\n",
    "    'failed_percent': g['failed'].mean(),\n",
    "    'avg_stack': g['stack'].mean(),\n",
    "}).sort_values('avg_stack', ascending=False)"
   ]
  },
  {
   "cell_type": "code",
   "execution_count": 9,
   "metadata": {
    "collapsed": false
   },
   "outputs": [
    {
     "data": {
      "text/html": [
       "<div>\n",
       "<table border=\"1\" class=\"dataframe\">\n",
       "  <thead>\n",
       "    <tr style=\"text-align: right;\">\n",
       "      <th></th>\n",
       "      <th>avg_stack</th>\n",
       "      <th>failed_percent</th>\n",
       "      <th>games</th>\n",
       "    </tr>\n",
       "    <tr>\n",
       "      <th>name</th>\n",
       "      <th></th>\n",
       "      <th></th>\n",
       "      <th></th>\n",
       "    </tr>\n",
       "  </thead>\n",
       "  <tbody>\n",
       "    <tr>\n",
       "      <th>uq8h3B2GrcoY2Ra~87aW63</th>\n",
       "      <td>4604.211111</td>\n",
       "      <td>0.0</td>\n",
       "      <td>90</td>\n",
       "    </tr>\n",
       "    <tr>\n",
       "      <th>iti9mUPtzIB8OixZNMhUwM</th>\n",
       "      <td>4580.850000</td>\n",
       "      <td>0.0</td>\n",
       "      <td>40</td>\n",
       "    </tr>\n",
       "    <tr>\n",
       "      <th>wWc3yQaWLh7F9lqPH7xWgk</th>\n",
       "      <td>4492.327869</td>\n",
       "      <td>0.0</td>\n",
       "      <td>61</td>\n",
       "    </tr>\n",
       "    <tr>\n",
       "      <th>v_lfvjaCeJfpbPhayTvKow</th>\n",
       "      <td>3874.737500</td>\n",
       "      <td>0.0</td>\n",
       "      <td>80</td>\n",
       "    </tr>\n",
       "    <tr>\n",
       "      <th>bB3x~e3JCksmqNA1dHc8Aq</th>\n",
       "      <td>3843.037500</td>\n",
       "      <td>0.0</td>\n",
       "      <td>80</td>\n",
       "    </tr>\n",
       "  </tbody>\n",
       "</table>\n",
       "</div>"
      ],
      "text/plain": [
       "                          avg_stack  failed_percent  games\n",
       "name                                                      \n",
       "uq8h3B2GrcoY2Ra~87aW63  4604.211111             0.0     90\n",
       "iti9mUPtzIB8OixZNMhUwM  4580.850000             0.0     40\n",
       "wWc3yQaWLh7F9lqPH7xWgk  4492.327869             0.0     61\n",
       "v_lfvjaCeJfpbPhayTvKow  3874.737500             0.0     80\n",
       "bB3x~e3JCksmqNA1dHc8Aq  3843.037500             0.0     80"
      ]
     },
     "execution_count": 9,
     "metadata": {},
     "output_type": "execute_result"
    }
   ],
   "source": [
    "df_leaderboard.head()"
   ]
  },
  {
   "cell_type": "markdown",
   "metadata": {},
   "source": [
    "##### Таблицу можно сохранить в CSV или в Excel"
   ]
  },
  {
   "cell_type": "code",
   "execution_count": 10,
   "metadata": {
    "collapsed": true
   },
   "outputs": [],
   "source": [
    "df_leaderboard.to_csv('leaderboard.csv')\n",
    "df_leaderboard.to_excel('leaderboard.xlsx')"
   ]
  }
 ],
 "metadata": {
  "kernelspec": {
   "display_name": "Python 3",
   "language": "python",
   "name": "python3"
  },
  "language_info": {
   "codemirror_mode": {
    "name": "ipython",
    "version": 3
   },
   "file_extension": ".py",
   "mimetype": "text/x-python",
   "name": "python",
   "nbconvert_exporter": "python",
   "pygments_lexer": "ipython3",
   "version": "3.6.0"
  }
 },
 "nbformat": 4,
 "nbformat_minor": 2
}
